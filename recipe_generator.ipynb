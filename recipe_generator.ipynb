{
  "nbformat": 4,
  "nbformat_minor": 0,
  "metadata": {
    "colab": {
      "provenance": []
    },
    "kernelspec": {
      "name": "python3",
      "display_name": "Python 3"
    },
    "language_info": {
      "name": "python"
    }
  },
  "cells": [
    {
      "cell_type": "markdown",
      "source": [
        "# Fine-Tuning GPT-2 on recipe dataset\n",
        "This notebook fine-tunes the language generation model GPT-2 to a recipe dataset. The goal is to input ingredients and let the model generate the recipe instructions.\n",
        "\n",
        "The code is adapted from [Max Woolf](http://minimaxir.com)'s [notebook Train a GPT-2 Text-Generating Model w/ GPU For Free](https://colab.research.google.com/drive/1VLG8e7YSEwypxU-noRNhsv5dW4NfTGce) (as at November 10th, 2019)."
      ],
      "metadata": {
        "id": "prp7dFcwdj4z"
      }
    },
    {
      "cell_type": "code",
      "source": [
        "# Accessing the downloaded dataset from my Drive and importing gpt_2_simple\n",
        "%tensorflow_version 2.x\n",
        "!pip install -q gpt-2-simple\n",
        "import gpt_2_simple as gpt2\n",
        "from datetime import datetime\n",
        "from google.colab import drive\n",
        "\n",
        "#Mounting Collab to my GDrive\n",
        "drive.mount('/content/drive/', force_remount=True)\n",
        "#gpt2.mount_gdrive()\n",
        "\n",
        "# Accessing the project file with the model and data\n",
        "!unzip -n /content/drive/MyDrive/ecs271finalproject.zip\n",
        "\n",
        "# List of files in my Google Drive leading to the project file\n",
        "!ls /content/ecs271finalproject"
      ],
      "metadata": {
        "colab": {
          "base_uri": "https://localhost:8080/"
        },
        "id": "xDxCaFuod_D6",
        "outputId": "2f0d7b6a-1e72-4cee-87f1-33afff2c5b2c"
      },
      "execution_count": null,
      "outputs": [
        {
          "output_type": "stream",
          "name": "stdout",
          "text": [
            "Colab only includes TensorFlow 2.x; %tensorflow_version has no effect.\n",
            "Mounted at /content/drive/\n",
            "Archive:  /content/drive/MyDrive/ecs271finalproject.zip\n",
            "checkpoint\t\t\t    README.md\t\t       RecipeNLG_dataset.csv\n",
            "df_tokenized_with_2_separators.txt  recipe_dataset_builder.py  samples\n",
            "df_tokenized_with_separator.txt     recipe-generator\t       smaller_dataset.csv\n",
            "models\t\t\t\t    recipe_generator.py\n"
          ]
        }
      ]
    },
    {
      "cell_type": "code",
      "source": [
        "# Downloading GPT-2 Model\n",
        "#Already downloaded it, don't need to run and resave downloaded \"model\" file again. Will run it if i want a larger model\n",
        "#gpt2.download_gpt2(model_name=\"124M\")"
      ],
      "metadata": {
        "id": "YQBAbtzwd8Mi"
      },
      "execution_count": null,
      "outputs": []
    },
    {
      "cell_type": "markdown",
      "source": [
        "## Uploading the Files from my Google Drive\n",
        "\n",
        "This cell will save the path towards the directory that leads to my project folder **(saved in my Google Drive that is also shared with you)** containing the model, dataset, and other important data."
      ],
      "metadata": {
        "id": "hLtdp0Q-emXa"
      }
    },
    {
      "cell_type": "code",
      "source": [
        "file_path = '/content/ecs271finalproject'\n",
        "dataset_file_path = file_path + \"/df_tokenized_with_separator.txt\" #Parsed Dataset you're using for you GPT\n",
        "model_file_path = file_path + \"/models/124M\""
      ],
      "metadata": {
        "id": "CLCOzDOhe0XJ"
      },
      "execution_count": null,
      "outputs": []
    },
    {
      "cell_type": "markdown",
      "source": [
        "## Finetune GPT-2\n",
        "\n",
        "The next cell will start the actual finetuning of GPT-2. It creates a persistent TensorFlow session which stores the training config, then runs the training for the specified number of `steps`. (to have the finetuning run indefinitely, set `steps = -1`)\n",
        "\n",
        "The model checkpoints will be saved in `/checkpoint/run1` by default. The checkpoints are saved every 500 steps (can be changed) and when the cell is stopped.\n",
        "\n",
        "The training might time out after 4ish hours; make sure you end training and save the results so you don't lose them!\n",
        "\n",
        "**IMPORTANT NOTE:** If you want to rerun this cell, **restart the VM first** (Runtime -> Restart Runtime). You will need to rerun imports but not recopy files.\n",
        "\n",
        "Other optional-but-helpful parameters for `gpt2.finetune`:\n",
        "\n",
        "\n",
        "*  **`restore_from`**: Set to `fresh` to start training from the base GPT-2, or set to `latest` to restart training from an existing checkpoint.\n",
        "* **`sample_every`**: Number of steps to print example output\n",
        "* **`print_every`**: Number of steps to print training progress.\n",
        "* **`learning_rate`**:  Learning rate for the training. (default `1e-4`, can lower to `1e-5` if you have <1MB input data)\n",
        "*  **`run_name`**: subfolder within `checkpoint` to save the model. This is useful if you want to work with multiple models (will also need to specify  `run_name` when loading the model)\n",
        "* **`overwrite`**: Set to `True` if you want to continue finetuning an existing model (w/ `restore_from='latest'`) without creating duplicate copies."
      ],
      "metadata": {
        "id": "nt8UnERjd376"
      }
    },
    {
      "cell_type": "code",
      "source": [
        "\"\"\" Already Ran it. Took approximately 3 hours. Lowest average error reached: 1.32.\n",
        "sess = gpt2.start_tf_sess()\n",
        "\n",
        "gpt2.finetune(sess,\n",
        "              dataset=dataset_file_path,\n",
        "              model_name = model_file_path,\n",
        "              batch_size=4,\n",
        "              steps=-1,\n",
        "              restore_from='fresh',\n",
        "              run_name='training_stil_step_-1',\n",
        "              print_every=10,\n",
        "              sample_every=200,\n",
        "              save_every=500\n",
        "              )\n",
        "  \"\"\""
      ],
      "metadata": {
        "colab": {
          "base_uri": "https://localhost:8080/",
          "height": 89
        },
        "id": "Yx28Hu3deSx2",
        "outputId": "7c0f4d4d-0659-496b-bcd5-8e1de25a4ccd"
      },
      "execution_count": null,
      "outputs": [
        {
          "output_type": "execute_result",
          "data": {
            "text/plain": [
              "\" Runs for approximately 3 hours. Lowest average error reached: 1.32.\\nsess = gpt2.start_tf_sess()\\n\\ngpt2.finetune(sess,\\n              dataset=dataset_file_path,\\n              model_name = model_file_path,\\n              batch_size=4,\\n              steps=-1,\\n              restore_from='fresh',\\n              run_name='training_stil_step_-1',\\n              print_every=10,\\n              sample_every=200,\\n              save_every=500\\n              )\\n  \""
            ],
            "application/vnd.google.colaboratory.intrinsic+json": {
              "type": "string"
            }
          },
          "metadata": {},
          "execution_count": 4
        }
      ]
    },
    {
      "cell_type": "code",
      "source": [
        "# Copied the newly trained model's checkpoint folder to my Google Drive.\n",
        "#gpt2.copy_checkpoint_to_gdrive(run_name='run3')"
      ],
      "metadata": {
        "id": "zvDe0gswgFq2"
      },
      "execution_count": null,
      "outputs": []
    },
    {
      "cell_type": "markdown",
      "source": [
        "Done! Feel free to go to the **Generate Text From The Trained Model** section to generate text based on the retrained model."
      ],
      "metadata": {
        "id": "qYBFAcuogTIu"
      }
    },
    {
      "cell_type": "markdown",
      "source": [
        "## Load a Trained Model Checkpoint\n",
        "\n",
        "Running the next cell will copy the `.rar` checkpoint file from your Google Drive into the Colaboratory VM."
      ],
      "metadata": {
        "id": "6OX_dPPUge4a"
      }
    },
    {
      "cell_type": "code",
      "source": [
        "#gpt2.copy_checkpoint_from_gdrive(run_name='run3')"
      ],
      "metadata": {
        "id": "hdBej9kTgjvh"
      },
      "execution_count": null,
      "outputs": []
    },
    {
      "cell_type": "markdown",
      "source": [
        "The next cell will allow you to load the retrained model checkpoint + metadata necessary to generate text.\n",
        "\n",
        "**IMPORTANT NOTE:** If you want to rerun this cell, **restart the VM first** (Runtime -> Restart Runtime). You will need to rerun imports but not recopy files."
      ],
      "metadata": {
        "id": "ilGcTFO3gwv5"
      }
    },
    {
      "cell_type": "code",
      "source": [
        "#Since I already have run1 created, I will have the file path for that here:\n",
        "run_file_path = file_path + \"/checkpoint/run1\"\n",
        "\n",
        "sess = gpt2.start_tf_sess()\n",
        "gpt2.load_gpt2(sess, run_name=run_file_path)"
      ],
      "metadata": {
        "colab": {
          "base_uri": "https://localhost:8080/"
        },
        "id": "PRLejIXFg1Tq",
        "outputId": "c0b1fd6d-1280-463c-d2dd-9bceb12437d7"
      },
      "execution_count": null,
      "outputs": [
        {
          "output_type": "stream",
          "name": "stdout",
          "text": [
            "Loading checkpoint /content/ecs271finalproject/checkpoint/run1/model-100\n"
          ]
        }
      ]
    },
    {
      "cell_type": "markdown",
      "source": [
        "## Generate Text From The Trained Model\n",
        "\n",
        "After you've trained the model or loaded a retrained model from checkpoint, you can now generate text. `generate` generates a single text from the loaded model."
      ],
      "metadata": {
        "id": "zlTxrPDzg6Gd"
      }
    },
    {
      "cell_type": "code",
      "source": [
        "gpt2.generate(sess, run_name=run_file_path)"
      ],
      "metadata": {
        "colab": {
          "base_uri": "https://localhost:8080/"
        },
        "id": "lT3YNeZng_MX",
        "outputId": "7d1d78fc-52a3-4bd3-ecdd-28558a3b7081"
      },
      "execution_count": null,
      "outputs": [
        {
          "output_type": "stream",
          "name": "stdout",
          "text": [
            "''Don Juan''S Keep''S''Applesauce''' '[\"apple juice\", \"cinnamon\", \"sugar\", \"flour\", \"lemon juice\", \"soda\", \"egg\", \"vanilla\", \"salt\", \"egg\", \"vanilla\", \"sugar\", \"vanilla\"]' '[\"Mix together the apple juice and cinnamon. Add sugar and beat until stiff. Add egg and beat until well blended. Add vanilla and beat well. Add meringue mixture and beat well.\", \"Add honey and sweetener.\", \"Pour into cooled applesauce and chill.\", \"Bake in preheated oven at 325\\u00b0 for 30 to 35 minutes.\"]' </>separator</>\n",
            "'Dumpling Soup' '[\"ground beef\", \"salt\", \"pepper\", \"celery\", \"pepper soup\", \"Cheddar cheese\"]' '[\"Cook beef, onion and celery in salted boiling water.\", \"Add soup and Cheddar cheese.\", \"Garnish with chopped celery and chopped pepper.\", \"Mix together cheese and chopped beef.\", \"Pour over beef.\", \"Pour drained cheese and mixture into a moldy and floured pan.\", \"Bake at 300\\u00b0 for 30 minutes.\", \"Frost immediately.\"]' </>separator</>\n",
            "'Turkey Casserole' '[\"turkey\", \"butter\", \"onion\", \"cornstarch\", \"onion\", \"salt\", \"pepper\", \"tomato juice\", \"Bisquick\", \"butter\", \"lemon juice\", \"water\", \"margarine\", \"pineapple juice\", \"butter\"]' '[\"Mix all ingredients and bake for 45 to 50 minutes at 375\\u00b0.\"]' </>separator</>\n",
            "'Chicken Casserole' '[\"ground\", \"onion\", \"curry\", \"brown sugar\", \"chicken broth\", \"water\", \"flour\", \"curry\", \"salt\", \"pepper\", \"eggs\"]' '[\"Prepare chicken in a large pot or in plastic bag.\"]' </>separator</>\n",
            "'Smoked Sweet Potatoes' '[\"ground chuck\", \"onion\", \"salt\", \"pepper\", \"sugar\", \"butter\"]' '[\"Dice and boil 3 hours. Drain well.\", \"Drain and heat through.\", \"Stir in potato, onion and sugar.\", \"Add in flour and salt.\", \"Pour into 2-quart saucepan.\", \"Put in.\", \"Cover and simmer for 1 1/2 hours.\"]' </>separator</>\n",
            "'Cranberry Pizza' '[\"cranberry pie filling\", \"pineapple pie filling\", \"orange pie filling\", \"shortening\", \"pineapple pie filling\"]' '[\"Cook cranberries and pineapple together.\", \"Add pineapple, orange pie filling and cranberry filling.\", \"Mix well.\", \"Pour into pie crust.\", \"Bake at 350\\u00b0 for 45 minutes or until golden brown.\"]' </>separator</>\n",
            "'Wedding Cookies' '[\"flour\", \"baking powder\", \"salt\", \"oil\", \"butter\", \"eggs\", \"vanilla\", \"cinnamon\", \"sugar\", \"eggs\"]' '[\"Mix flour, baking powder and salt over medium heat; bring to a boil over low heat.\", \"Add oil and heat until thick.\", \"Serve warm and moist.\", \"Makes 4 dozen.\"]' </>separator</>\n",
            "'Playing Ball' '[\"confectioners sugar\", \"baking soda\", \"sugar\", \"salt\", \"pepper\"]' '[\"Combine sugar, baking soda and salt in saucepan.\", \"Add to hot mixture and stir well.\", \"Gradually add egg yolks and cook, stirring constantly, until yolks are moistened.\", \"Remove from heat and add flour mixture.\", \"Blend well and add to ball.\", \"Bake at 350\\u00b0 for 30 to 40 minutes.\"]' </>separator</>\n",
            "'Cabbage Casserole' '[\"cabbage\", \"onions\", \"cream of celery soup\", \"Bisquick soup\", \"green chili\", \"pimento\", \"Cheddar cheese\"]' '[\"Cook cabbage until crisp.\", \"Add remaining ingredients and simmer for 20 minutes.\"]' </>separator</>\n",
            "'No Bake Cookies' '[\"butter\", \"sugar\", \"cinnamon\", \"eggs\", \"vanilla\", \"salt\", \"pecans\"]' '[\"Mix together the remaining ingredients (or mix together a mixture you would like to use in a muffin tin).\", \"Bake at 350\\u00b0 for 1 hour and 1 half. Makes about 15 to 20 muffins.\"]' </>separ\n"
          ]
        }
      ]
    },
    {
      "cell_type": "markdown",
      "source": [
        "You can also pass in a `prefix` to the generate function to force the text to start with a given character sequence and generate text from there (good if you add an indicator when the text starts).\n",
        "\n",
        "You can also generate multiple texts at a time by specifing `nsamples`. Unique to GPT-2, you can pass a `batch_size` to generate multiple samples in parallel, giving a massive speedup (in Colaboratory, set a maximum of 20 for `batch_size`).\n",
        "\n",
        "Other optional-but-helpful parameters for `gpt2.generate` and friends:\n",
        "\n",
        "*  **`length`**: Number of tokens to generate (default 1023, the maximum)\n",
        "* **`temperature`**: The higher the temperature, the crazier the text (default 0.7, recommended to keep between 0.7 and 1.0)\n",
        "* **`top_k`**: Limits the generated guesses to the top *k* guesses (default 0 which disables the behavior; if the generated output is super crazy, you may want to set `top_k=40`)\n",
        "* **`top_p`**: Nucleus sampling: limits the generated guesses to a cumulative probability. (gets good results on a dataset with `top_p=0.9`)\n",
        "* **`truncate`**: Truncates the input text until a given sequence, excluding that sequence (e.g. if `truncate='<|endoftext|>'`, the returned text will include everything before the first `<|endoftext|>`). It may be useful to combine this with a smaller `length` if the input texts are short.\n",
        "*  **`include_prefix`**: If using `truncate` and `include_prefix=False`, the specified `prefix` will not be included in the returned text."
      ],
      "metadata": {
        "id": "EyxMsmHVhWV8"
      }
    },
    {
      "cell_type": "code",
      "execution_count": null,
      "metadata": {
        "id": "sOKoqb39TPpU",
        "colab": {
          "base_uri": "https://localhost:8080/",
          "height": 365
        },
        "outputId": "6523d41a-7a2e-41d9-d376-26d92b0ccfce"
      },
      "outputs": [
        {
          "output_type": "error",
          "ename": "FileNotFoundError",
          "evalue": "[Errno 2] No such file or directory: 'checkpoint/run1/encoder.json'",
          "traceback": [
            "\u001b[0;31m---------------------------------------------------------------------------\u001b[0m",
            "\u001b[0;31mFileNotFoundError\u001b[0m                         Traceback (most recent call last)",
            "\u001b[0;32m<ipython-input-9-465b556a1055>\u001b[0m in \u001b[0;36m<cell line: 1>\u001b[0;34m()\u001b[0m\n\u001b[0;32m----> 1\u001b[0;31m x = gpt2.generate(sess,\n\u001b[0m\u001b[1;32m      2\u001b[0m               \u001b[0mtemperature\u001b[0m\u001b[0;34m=\u001b[0m\u001b[0;36m0.75\u001b[0m\u001b[0;34m,\u001b[0m\u001b[0;34m\u001b[0m\u001b[0;34m\u001b[0m\u001b[0m\n\u001b[1;32m      3\u001b[0m               \u001b[0mprefix\u001b[0m\u001b[0;34m=\u001b[0m\u001b[0;34m\"['bell peppers', 'rice', 'chili powder', 'potatos', 'mushroom']\"\u001b[0m\u001b[0;34m,\u001b[0m\u001b[0;34m\u001b[0m\u001b[0;34m\u001b[0m\u001b[0m\n\u001b[1;32m      4\u001b[0m               \u001b[0mnsamples\u001b[0m\u001b[0;34m=\u001b[0m\u001b[0;36m1\u001b[0m\u001b[0;34m,\u001b[0m\u001b[0;34m\u001b[0m\u001b[0;34m\u001b[0m\u001b[0m\n\u001b[1;32m      5\u001b[0m               \u001b[0mrun_name\u001b[0m\u001b[0;34m=\u001b[0m\u001b[0;34m'run1'\u001b[0m\u001b[0;34m,\u001b[0m\u001b[0;34m\u001b[0m\u001b[0;34m\u001b[0m\u001b[0m\n",
            "\u001b[0;32m/usr/local/lib/python3.10/dist-packages/gpt_2_simple/gpt_2.py\u001b[0m in \u001b[0;36mgenerate\u001b[0;34m(sess, run_name, checkpoint_dir, model_name, model_dir, sample_dir, return_as_list, truncate, destination_path, sample_delim, prefix, seed, nsamples, batch_size, length, temperature, top_k, top_p, include_prefix)\u001b[0m\n\u001b[1;32m    448\u001b[0m         \u001b[0mcheckpoint_path\u001b[0m \u001b[0;34m=\u001b[0m \u001b[0mos\u001b[0m\u001b[0;34m.\u001b[0m\u001b[0mpath\u001b[0m\u001b[0;34m.\u001b[0m\u001b[0mjoin\u001b[0m\u001b[0;34m(\u001b[0m\u001b[0mcheckpoint_dir\u001b[0m\u001b[0;34m,\u001b[0m \u001b[0mrun_name\u001b[0m\u001b[0;34m)\u001b[0m\u001b[0;34m\u001b[0m\u001b[0;34m\u001b[0m\u001b[0m\n\u001b[1;32m    449\u001b[0m \u001b[0;34m\u001b[0m\u001b[0m\n\u001b[0;32m--> 450\u001b[0;31m     \u001b[0menc\u001b[0m \u001b[0;34m=\u001b[0m \u001b[0mencoder\u001b[0m\u001b[0;34m.\u001b[0m\u001b[0mget_encoder\u001b[0m\u001b[0;34m(\u001b[0m\u001b[0mcheckpoint_path\u001b[0m\u001b[0;34m)\u001b[0m\u001b[0;34m\u001b[0m\u001b[0;34m\u001b[0m\u001b[0m\n\u001b[0m\u001b[1;32m    451\u001b[0m     \u001b[0mhparams\u001b[0m \u001b[0;34m=\u001b[0m \u001b[0mmodel\u001b[0m\u001b[0;34m.\u001b[0m\u001b[0mdefault_hparams\u001b[0m\u001b[0;34m(\u001b[0m\u001b[0;34m)\u001b[0m\u001b[0;34m\u001b[0m\u001b[0;34m\u001b[0m\u001b[0m\n\u001b[1;32m    452\u001b[0m     \u001b[0;32mwith\u001b[0m \u001b[0mopen\u001b[0m\u001b[0;34m(\u001b[0m\u001b[0mos\u001b[0m\u001b[0;34m.\u001b[0m\u001b[0mpath\u001b[0m\u001b[0;34m.\u001b[0m\u001b[0mjoin\u001b[0m\u001b[0;34m(\u001b[0m\u001b[0mcheckpoint_path\u001b[0m\u001b[0;34m,\u001b[0m \u001b[0;34m'hparams.json'\u001b[0m\u001b[0;34m)\u001b[0m\u001b[0;34m)\u001b[0m \u001b[0;32mas\u001b[0m \u001b[0mf\u001b[0m\u001b[0;34m:\u001b[0m\u001b[0;34m\u001b[0m\u001b[0;34m\u001b[0m\u001b[0m\n",
            "\u001b[0;32m/usr/local/lib/python3.10/dist-packages/gpt_2_simple/src/encoder.py\u001b[0m in \u001b[0;36mget_encoder\u001b[0;34m(checkpoint_path)\u001b[0m\n\u001b[1;32m    107\u001b[0m \u001b[0;34m\u001b[0m\u001b[0m\n\u001b[1;32m    108\u001b[0m \u001b[0;32mdef\u001b[0m \u001b[0mget_encoder\u001b[0m\u001b[0;34m(\u001b[0m\u001b[0mcheckpoint_path\u001b[0m\u001b[0;34m)\u001b[0m\u001b[0;34m:\u001b[0m\u001b[0;34m\u001b[0m\u001b[0;34m\u001b[0m\u001b[0m\n\u001b[0;32m--> 109\u001b[0;31m     \u001b[0;32mwith\u001b[0m \u001b[0mopen\u001b[0m\u001b[0;34m(\u001b[0m\u001b[0mos\u001b[0m\u001b[0;34m.\u001b[0m\u001b[0mpath\u001b[0m\u001b[0;34m.\u001b[0m\u001b[0mjoin\u001b[0m\u001b[0;34m(\u001b[0m\u001b[0mcheckpoint_path\u001b[0m\u001b[0;34m,\u001b[0m \u001b[0;34m'encoder.json'\u001b[0m\u001b[0;34m)\u001b[0m\u001b[0;34m,\u001b[0m \u001b[0;34m'r'\u001b[0m\u001b[0;34m)\u001b[0m \u001b[0;32mas\u001b[0m \u001b[0mf\u001b[0m\u001b[0;34m:\u001b[0m\u001b[0;34m\u001b[0m\u001b[0;34m\u001b[0m\u001b[0m\n\u001b[0m\u001b[1;32m    110\u001b[0m         \u001b[0mencoder\u001b[0m \u001b[0;34m=\u001b[0m \u001b[0mjson\u001b[0m\u001b[0;34m.\u001b[0m\u001b[0mload\u001b[0m\u001b[0;34m(\u001b[0m\u001b[0mf\u001b[0m\u001b[0;34m)\u001b[0m\u001b[0;34m\u001b[0m\u001b[0;34m\u001b[0m\u001b[0m\n\u001b[1;32m    111\u001b[0m     \u001b[0;32mwith\u001b[0m \u001b[0mopen\u001b[0m\u001b[0;34m(\u001b[0m\u001b[0mos\u001b[0m\u001b[0;34m.\u001b[0m\u001b[0mpath\u001b[0m\u001b[0;34m.\u001b[0m\u001b[0mjoin\u001b[0m\u001b[0;34m(\u001b[0m\u001b[0mcheckpoint_path\u001b[0m\u001b[0;34m,\u001b[0m \u001b[0;34m'vocab.bpe'\u001b[0m\u001b[0;34m)\u001b[0m\u001b[0;34m,\u001b[0m \u001b[0;34m'r'\u001b[0m\u001b[0;34m,\u001b[0m \u001b[0mencoding\u001b[0m\u001b[0;34m=\u001b[0m\u001b[0;34m\"utf-8\"\u001b[0m\u001b[0;34m)\u001b[0m \u001b[0;32mas\u001b[0m \u001b[0mf\u001b[0m\u001b[0;34m:\u001b[0m\u001b[0;34m\u001b[0m\u001b[0;34m\u001b[0m\u001b[0m\n",
            "\u001b[0;31mFileNotFoundError\u001b[0m: [Errno 2] No such file or directory: 'checkpoint/run1/encoder.json'"
          ]
        }
      ],
      "source": [
        "x = gpt2.generate(sess,\n",
        "              temperature=0.75,\n",
        "              prefix=\"['bell peppers', 'rice', 'chili powder', 'potatos', 'mushroom']\",\n",
        "              nsamples=1,\n",
        "              run_name=run_file_path,\n",
        "              truncate='</>separator</>',\n",
        "              include_prefix=False\n",
        "              )\n",
        "\n",
        "print(x)"
      ]
    },
    {
      "cell_type": "markdown",
      "source": [
        "# Etcetera\n",
        "\n",
        "If the notebook has errors (e.g. GPU Sync Fail), force-kill the Colaboratory virtual machine and restart it with the command below:"
      ],
      "metadata": {
        "id": "th8nUPTCiAyt"
      }
    },
    {
      "cell_type": "code",
      "source": [
        "!kill -9 -1"
      ],
      "metadata": {
        "id": "EJ6xy1A_iKqi"
      },
      "execution_count": null,
      "outputs": []
    },
    {
      "cell_type": "markdown",
      "source": [
        "# LICENSE\n",
        "\n",
        "MIT License\n",
        "\n",
        "Copyright (c) 2019 Max Woolf\n",
        "\n",
        "Permission is hereby granted, free of charge, to any person obtaining a copy\n",
        "of this software and associated documentation files (the \"Software\"), to deal\n",
        "in the Software without restriction, including without limitation the rights\n",
        "to use, copy, modify, merge, publish, distribute, sublicense, and/or sell\n",
        "copies of the Software, and to permit persons to whom the Software is\n",
        "furnished to do so, subject to the following conditions:\n",
        "\n",
        "The above copyright notice and this permission notice shall be included in all\n",
        "copies or substantial portions of the Software.\n",
        "\n",
        "THE SOFTWARE IS PROVIDED \"AS IS\", WITHOUT WARRANTY OF ANY KIND, EXPRESS OR\n",
        "IMPLIED, INCLUDING BUT NOT LIMITED TO THE WARRANTIES OF MERCHANTABILITY,\n",
        "FITNESS FOR A PARTICULAR PURPOSE AND NONINFRINGEMENT. IN NO EVENT SHALL THE\n",
        "AUTHORS OR COPYRIGHT HOLDERS BE LIABLE FOR ANY CLAIM, DAMAGES OR OTHER\n",
        "LIABILITY, WHETHER IN AN ACTION OF CONTRACT, TORT OR OTHERWISE, ARISING FROM,\n",
        "OUT OF OR IN CONNECTION WITH THE SOFTWARE OR THE USE OR OTHER DEALINGS IN THE\n",
        "SOFTWARE."
      ],
      "metadata": {
        "id": "b6CpwuyEiJUV"
      }
    }
  ]
}