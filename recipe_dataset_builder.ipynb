{
  "nbformat": 4,
  "nbformat_minor": 0,
  "metadata": {
    "colab": {
      "provenance": []
    },
    "kernelspec": {
      "name": "python3",
      "display_name": "Python 3"
    },
    "language_info": {
      "name": "python"
    }
  },
  "cells": [
    {
      "cell_type": "code",
      "execution_count": null,
      "metadata": {
        "colab": {
          "base_uri": "https://localhost:8080/"
        },
        "id": "yPzflsUqgT-V",
        "outputId": "df614349-d689-44d4-dc7d-c4f6350fa387"
      },
      "outputs": [
        {
          "output_type": "stream",
          "name": "stdout",
          "text": [
            "Columns: \n",
            " Index(['title', 'ingredients', 'instructions', 'separator'], dtype='object')\n",
            "\n",
            " Iloc: \n",
            " title                                         No-Bake Nut Cookies\n",
            "ingredients     [\"brown sugar\", \"milk\", \"vanilla\", \"nuts\", \"bu...\n",
            "instructions    [\"In a heavy 2-quart saucepan, mix brown sugar...\n",
            "separator                                         </>separator</>\n",
            "Name: 0, dtype: object\n",
            "\n",
            "Title: \n",
            " No-Bake Nut Cookies\n",
            "\n",
            "Ingredients[0]: \n",
            " [\"brown sugar\", \"milk\", \"vanilla\", \"nuts\", \"butter\", \"bite size shredded rice biscuits\"]\n",
            "\n",
            "Instructions[0]: \n",
            " [\"In a heavy 2-quart saucepan, mix brown sugar, nuts, evaporated milk and butter or margarine.\", \"Stir over medium heat until mixture bubbles all over top.\", \"Boil and stir 5 minutes more. Take off heat.\", \"Stir in vanilla and cereal; mix well.\", \"Using 2 teaspoons, drop and shape into 30 clusters on wax paper.\", \"Let stand until firm, about 30 minutes.\"]\n",
            "\n",
            "Seperator[0]: \n",
            " </>separator</>\n",
            "\n",
            "Shape: \n",
            " (1000, 4)\n"
          ]
        }
      ],
      "source": [
        "import pandas as pd\n",
        "import sys\n",
        "from os import path\n",
        "from nltk.tokenize import word_tokenize\n",
        "from nltk import download\n",
        "from tqdm import tqdm\n",
        "\n",
        "\n",
        "rawData = pd.read_csv('smaller_dataset.csv',usecols=['title','NER','directions'],nrows=1000)\n",
        "# print(rawData.dtypes)\n",
        "# print(rawData.columns)\n",
        "# print(rawData.iloc[0])\n",
        "# print(rawData['directions'][0])\n",
        "\n",
        "colnames = ['title', 'ingredients', 'instructions', 'separator']\n",
        "colnames2 = ['title', 'ingredients', 'separator1', 'instructions', 'separator2']\n",
        "\n",
        "#Originally Parsed Dataset\n",
        "df = pd.DataFrame(columns=colnames)\n",
        "df['title'] = rawData['title']\n",
        "df['ingredients'] = rawData['NER']\n",
        "df['instructions'] = rawData['directions']\n",
        "df['separator'] = '</>separator</>'\n",
        "\n",
        "#Parsed Dataset with Seperator between Ingredient List and Instruction List\n",
        "df2 = pd.DataFrame(columns=colnames2)\n",
        "df2['title'] = rawData['title']\n",
        "df2['ingredients'] = rawData['NER']\n",
        "df2['separator1'] = '</>separator</>'\n",
        "df2['instructions'] = rawData['directions']\n",
        "df2['separator2'] = '</>separator</>'\n",
        "\n",
        "print(\"Columns: \\n\", df.columns)\n",
        "print(\"\\n Iloc: \\n\", df.iloc[0])\n",
        "print(\"\\nTitle: \\n\", df['title'][0])\n",
        "print(\"\\nIngredients[0]: \\n\", df['ingredients'][0])\n",
        "print(\"\\nInstructions[0]: \\n\", df['instructions'][0])\n",
        "print(\"\\nSeperator[0]: \\n\", df['separator'][0])\n",
        "print(\"\\nShape: \\n\", df.shape)\n",
        "\n",
        "df.to_csv('df_tokenized_with_separator.txt', header = None, sep=' ',index=False,quotechar=\"'\")\n",
        "df2.to_csv('df_tokenized_with_2_separators.txt', header = None, sep=' ',index=False,quotechar=\"'\")"
      ]
    }
  ]
}